{
 "cells": [
  {
   "cell_type": "code",
   "execution_count": 5,
   "metadata": {},
   "outputs": [],
   "source": [
    "# Package that provides access to Fits files \n",
    "from astropy.io import fits     \n",
    "import numpy\n",
    "import OpenEXR"
   ]
  },
  {
   "cell_type": "code",
   "execution_count": null,
   "metadata": {},
   "outputs": [],
   "source": [
    "def fits_to_exr(input_fits, output_exr32):\n",
    "    \n",
    "    # Returns HDUList object which is a list-like collection of HDU objects.\n",
    "    # Each HDU contains a header and data. Header contains keyword, value, and comment. Keyword / value\n",
    "    # can be manipulated like a python dict. Data is a numpy ndarray (n-dimensional array). \n",
    "    # For now, we only look at the first HDU (this should be changed later). \n",
    "    HDUList = fits.open(input_fits)\n",
    "    fits_header = HDUList[0].header \n",
    "    fits_data = HDUList[0].data\n",
    "    HDUList.close()\n",
    "    \n",
    "    # Get the dimension of the image. \n",
    "    width, height = fits_data.shape\n",
    "    \n",
    "    # Convert the elements in fitz_data to float32 format (presumably from float64, but this should be checked).\n",
    "    # This can be done analogously for 16 bit. \n",
    "    fits_data_f32 = numpy.float32(fits_data)\n",
    "    \n",
    "    # Create the EXR header with appropriate height and width.\n",
    "    # Copy the Fits header to EXR. Probably need to do more of a deep copy later. \n",
    "    header = OpenEXR.Header(height, width)\n",
    "    header['header'] = fits_header\n",
    "    \n",
    "    # Create EXR output file with header. Write Fits data to EXR red channel. \n",
    "    EXR32 = OpenEXR.OutputFile(output_exr32, header)\n",
    "    EXR32.writePixels({\"R\": fits_data_f32})\n",
    "    \n",
    "    return output_exr32\n",
    "    "
   ]
  },
  {
   "cell_type": "code",
   "execution_count": 17,
   "metadata": {},
   "outputs": [
    {
     "data": {
      "text/plain": [
       "'exr_demo.exr'"
      ]
     },
     "execution_count": 17,
     "metadata": {},
     "output_type": "execute_result"
    }
   ],
   "source": [
    "fits_input = \"/home/idies/workspace/Storage/mtaghiza/exr/SkyServer FITS/2MASS J11582332-0020114/frame-r-006793-3-0127.fits\"\n",
    "exr_output = \"exr_demo.exr\"\n",
    "fits_to_exr(fits_input, exr_output)"
   ]
  },
  {
   "cell_type": "code",
   "execution_count": null,
   "metadata": {},
   "outputs": [],
   "source": []
  }
 ],
 "metadata": {
  "kernelspec": {
   "display_name": "Python 3",
   "language": "python",
   "name": "python3"
  },
  "language_info": {
   "codemirror_mode": {
    "name": "ipython",
    "version": 3
   },
   "file_extension": ".py",
   "mimetype": "text/x-python",
   "name": "python",
   "nbconvert_exporter": "python",
   "pygments_lexer": "ipython3",
   "version": "3.6.6"
  }
 },
 "nbformat": 4,
 "nbformat_minor": 2
}
