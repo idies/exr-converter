{
 "cells": [
  {
   "cell_type": "markdown",
   "metadata": {},
   "source": [
    "# Welcome to the EXR Converter Demo!"
   ]
  },
  {
   "cell_type": "markdown",
   "metadata": {},
   "source": [
    "First, we will convert a sample FITS image to EXR format. To do this, we will use the fits2exr package. Import fits2exr (and exr2fits for later use) below.  "
   ]
  },
  {
   "cell_type": "code",
   "execution_count": 1,
   "metadata": {},
   "outputs": [],
   "source": [
    "from exrconverter import fits2exr, exr2fits"
   ]
  },
  {
   "cell_type": "markdown",
   "metadata": {},
   "source": [
    "Fits2exr contains one function, `convert()`, that performs all of the heavy lifting. The function header is copied here for convienience:\n",
    "\n",
    "`def convert(input_fits, output_exr, compresssion=None, output_pixel_type=None):`\n",
    "\n",
    "The two required parameters are the name of the input FITS file and the name of the output EXR file. Optionally, compression and output pixel type can be included as well. Compression options are:\n",
    "\n",
    "1. 'NONE'\n",
    "2. 'RLE'\n",
    "3. 'ZIPS'\n",
    "4. 'ZIPS'\n",
    "5. 'PIZ'\n",
    "6. 'PXR24'\n",
    "7. 'B44'\n",
    "8. 'B44A'\n",
    "9. 'DWAA'\n",
    "10. 'DWAB'\n",
    "\n",
    "Pixel options are: \n",
    "\n",
    "1. `FLOAT16`\n",
    "2. `FLOAT32`\n",
    "3. `FLOAT64`\n",
    "4. `INT8`\n",
    "5. `INT16`\n",
    "6. `INT32`\n",
    "7. `UINT16`\n",
    "\n",
    "Because of the unique HDU formatting for FITS, only **2-D** images will be copied into the EXR file as different channels. The FITS header is much more sophisticated than that of EXR, so it is ported to EXR as a binary string. While this information is not available in EXR, it is converted back to a readable format when `exr2fits` is run. \n",
    "\n",
    "**TL/DR:** \n",
    "- A conversion from FITS to EXR and back to FITS will preserve the header and 2-D images from the original FITS file. \n",
    "- However, if `output_pixel_type` is smaller than the original fits type, the pixel data will be truncated. "
   ]
  },
  {
   "cell_type": "code",
   "execution_count": 7,
   "metadata": {},
   "outputs": [],
   "source": [
    "fits2exr.convert('frame-r-006793-3-0127.fits', 'exr_demo_output.exr')"
   ]
  },
  {
   "cell_type": "markdown",
   "metadata": {},
   "source": [
    "An analogous function in exr2fits will convert EXR images to FITS format. The function header is: \n",
    "\n",
    "`def convert(input_exr, output_fits, output_pixel_type=None, verbose=True):`\n",
    "\n",
    "The two required parameters, `input_exr` and `output_fits`, specify the input EXR and output FITS files, and `output_pixel_type` can be specified optionally. Additionally, the `verbose` parameter will print warnings."
   ]
  },
  {
   "cell_type": "code",
   "execution_count": 8,
   "metadata": {},
   "outputs": [],
   "source": [
    "exr2fits.convert('exr_demo_output.exr', 'fits_demo_output.fits')"
   ]
  },
  {
   "cell_type": "markdown",
   "metadata": {},
   "source": [
    "## Converstion from FITS -> EXR -> FITS\n",
    "We will compare `frame-r-006793-3-0127.fits` and `fits_demo_output.fits` to observe how the FITS file is modified by being stored in EXR.\n",
    "\n",
    "First, we will check the number and types of HDUs."
   ]
  },
  {
   "cell_type": "code",
   "execution_count": 2,
   "metadata": {},
   "outputs": [
    {
     "name": "stdout",
     "output_type": "stream",
     "text": [
      "The original fits file has 4 HDU(s).\n",
      "The original fits file has 1 HDU(s).\n"
     ]
    }
   ],
   "source": [
    "from astropy.io import fits  \n",
    "\n",
    "# Open the two fits files\n",
    "hdu_list_original = fits.open('frame-r-006793-3-0127.fits')\n",
    "hdu_list_modified = fits.open('fits_demo_output.fits')\n",
    "\n",
    "print(f'The original fits file has {len(hdu_list_original)} HDU(s).')\n",
    "print(f'The original fits file has {len(hdu_list_modified)} HDU(s).')"
   ]
  },
  {
   "cell_type": "markdown",
   "metadata": {},
   "source": [
    "It is clear that only **one** HDU from the original FITS file survives the storage in EXR. We will check if this was the only 2-D image in the original FITS file. "
   ]
  },
  {
   "cell_type": "code",
   "execution_count": 25,
   "metadata": {},
   "outputs": [
    {
     "name": "stdout",
     "output_type": "stream",
     "text": [
      "The PRIMARY HDU is a 2-D image.\n"
     ]
    }
   ],
   "source": [
    "for hdu in hdu_list_original:\n",
    "    if hdu.is_image and len(hdu.data.shape) == 2:\n",
    "        print(f\"The {hdu.name} HDU is a 2-D image.\")\n",
    "\n",
    "hdu_list_original.close()\n",
    "hdu_list_modified.close()"
   ]
  },
  {
   "cell_type": "markdown",
   "metadata": {},
   "source": [
    "Correct!\n",
    "\n",
    "We will now observe the truncation of FITS data if a smaller type is used to store in EXR."
   ]
  },
  {
   "cell_type": "code",
   "execution_count": 11,
   "metadata": {},
   "outputs": [
    {
     "name": "stdout",
     "output_type": "stream",
     "text": [
      "The difference between pixels is 0.0.\n"
     ]
    }
   ],
   "source": [
    "import numpy as np\n",
    "\n",
    "# Run fits2exr with 16-bit float type\n",
    "fits2exr.convert('frame-r-006793-3-0127.fits', 'exr_demo_output.exr', np.float16)\n",
    "exr2fits.convert('exr_demo_output.exr', 'fits_demo_output.fits', np.float32)\n",
    "\n",
    "# Open the two fits files again\n",
    "hdu_list_original = fits.open('frame-r-006793-3-0127.fits')\n",
    "hdu_list_modified = fits.open('fits_demo_output.fits')\n",
    "\n",
    "image_original = hdu_list_original[0].data\n",
    "image_modified = hdu_list_modified[0].data\n",
    "\n",
    "print (f\"The difference between pixels is {np.float32(image_original[0][0]) - np.float32(image_modified[0][0])}.\")"
   ]
  },
  {
   "cell_type": "markdown",
   "metadata": {},
   "source": [
    "**The process is directly analogous to convert from TIFF to EXR and vice versa.**"
   ]
  },
  {
   "cell_type": "code",
   "execution_count": 1,
   "metadata": {},
   "outputs": [],
   "source": [
    "from exrconverter import tiff2exr, exr2tiff\n",
    "import SimpleITK as sitk"
   ]
  },
  {
   "cell_type": "code",
   "execution_count": 2,
   "metadata": {},
   "outputs": [],
   "source": [
    "tiff2exr.convert(tiff, \"example.exr\")\n",
    "exr2tiff.convert(\"example.exr\", \"example.tiff\")"
   ]
  }
 ],
 "metadata": {
  "kernelspec": {
   "display_name": "Python 3",
   "language": "python",
   "name": "python3"
  },
  "language_info": {
   "codemirror_mode": {
    "name": "ipython",
    "version": 3
   },
   "file_extension": ".py",
   "mimetype": "text/x-python",
   "name": "python",
   "nbconvert_exporter": "python",
   "pygments_lexer": "ipython3",
   "version": "3.6.6"
  }
 },
 "nbformat": 4,
 "nbformat_minor": 2
}
