{
 "cells": [
  {
   "cell_type": "markdown",
   "metadata": {},
   "source": [
    "# Welcome to the EXR Converter Demo!"
   ]
  },
  {
   "cell_type": "markdown",
   "metadata": {},
   "source": [
    "First, we will convert a sample FITS image to EXR format. To do this, we will use the fits2exr package. Import fits2exr (and exr2fits for later use) below.  "
   ]
  },
  {
   "cell_type": "code",
   "execution_count": 1,
   "metadata": {},
   "outputs": [],
   "source": [
    "from exrconverter import fits2exr, exr2fits"
   ]
  },
  {
   "cell_type": "markdown",
   "metadata": {},
   "source": [
    "Fits2exr contains one function, `convert()`, that performs all of the heavy lifting. The function header is copied here for convienience:\n",
    "\n",
    "`def convert(input_fits, output_exr, output_pixel_type=None):`\n",
    "\n",
    "The two required parameters are the name of the input FITS file and the name of the output EXR file. Optionally, an output pixel type can be included as well. Pixel options are: \n",
    "\n",
    "1. `FLOAT16`\n",
    "2. `FLOAT32`\n",
    "3. `FLOAT64`\n",
    "4. `INT8`\n",
    "5. `INT16`\n",
    "6. `INT32`\n",
    "7. `UINT16`\n",
    "\n",
    "Because of the unique HDU formatting for FITS, only **2-D** images will be copied into the EXR file as different channels. The FITS header is much more sophisticated than that of EXR, so it is ported to EXR as a binary string. While this information is not available in EXR, it is converted back to a readable format when `exr2fits` is run. \n",
    "\n",
    "**TL/DR:** \n",
    "- A conversion from FITS to EXR and back to FITS will preserve the header and 2-D images from the original FITS file. \n",
    "- However, if `output_pixel_type` is smaller than the original fits type, the pixel data will be truncated. "
   ]
  },
  {
   "cell_type": "code",
   "execution_count": 7,
   "metadata": {},
   "outputs": [],
   "source": [
    "fits2exr.convert('frame-r-006793-3-0127.fits', 'exr_demo_output.exr')"
   ]
  },
  {
   "cell_type": "markdown",
   "metadata": {},
   "source": [
    "An analogous function in exr2fits will convert EXR images to FITS format. The function header is: \n",
    "\n",
    "`def convert(input_exr, output_fits, output_pixel_type=None, verbose=True):`\n",
    "\n",
    "The two required parameters, `input_exr` and `output_fits`, specify the input EXR and output FITS files, and `output_pixel_type` can be specified optionally. Additionally, the `verbose` parameter will print warnings."
   ]
  },
  {
   "cell_type": "code",
   "execution_count": 8,
   "metadata": {},
   "outputs": [],
   "source": [
    "exr2fits.convert('exr_demo_output.exr', 'fits_demo_output.fits')"
   ]
  },
  {
   "cell_type": "markdown",
   "metadata": {},
   "source": [
    "## Converstion from FITS -> EXR -> FITS\n",
    "We will compare `frame-r-006793-3-0127.fits` and `fits_demo_output.fits` to observe how the FITS file is modified by being stored in EXR.\n",
    "\n",
    "First, we will check the number and types of HDUs."
   ]
  },
  {
   "cell_type": "code",
   "execution_count": 2,
   "metadata": {},
   "outputs": [
    {
     "name": "stdout",
     "output_type": "stream",
     "text": [
      "The original fits file has 4 HDU(s).\n",
      "The original fits file has 1 HDU(s).\n"
     ]
    }
   ],
   "source": [
    "from astropy.io import fits  \n",
    "\n",
    "# Open the two fits files\n",
    "hdu_list_original = fits.open('frame-r-006793-3-0127.fits')\n",
    "hdu_list_modified = fits.open('fits_demo_output.fits')\n",
    "\n",
    "print(f'The original fits file has {len(hdu_list_original)} HDU(s).')\n",
    "print(f'The original fits file has {len(hdu_list_modified)} HDU(s).')"
   ]
  },
  {
   "cell_type": "markdown",
   "metadata": {},
   "source": [
    "It is clear that only **one** HDU from the original FITS file survives the storage in EXR. We will check if this was the only 2-D image in the original FITS file. "
   ]
  },
  {
   "cell_type": "code",
   "execution_count": 25,
   "metadata": {},
   "outputs": [
    {
     "name": "stdout",
     "output_type": "stream",
     "text": [
      "The PRIMARY HDU is a 2-D image.\n"
     ]
    }
   ],
   "source": [
    "for hdu in hdu_list_original:\n",
    "    if hdu.is_image and len(hdu.data.shape) == 2:\n",
    "        print(f\"The {hdu.name} HDU is a 2-D image.\")\n",
    "\n",
    "hdu_list_original.close()\n",
    "hdu_list_modified.close()"
   ]
  },
  {
   "cell_type": "markdown",
   "metadata": {},
   "source": [
    "Correct!\n",
    "\n",
    "We will now observe the truncation of FITS data if a smaller type is used to store in EXR."
   ]
  },
  {
   "cell_type": "code",
   "execution_count": 11,
   "metadata": {},
   "outputs": [
    {
     "name": "stdout",
     "output_type": "stream",
     "text": [
      "The difference between pixels is 0.0.\n"
     ]
    }
   ],
   "source": [
    "import numpy as np\n",
    "\n",
    "# Run fits2exr with 16-bit float type\n",
    "fits2exr.convert('frame-r-006793-3-0127.fits', 'exr_demo_output.exr', np.float16)\n",
    "exr2fits.convert('exr_demo_output.exr', 'fits_demo_output.fits', np.float32)\n",
    "\n",
    "# Open the two fits files again\n",
    "hdu_list_original = fits.open('frame-r-006793-3-0127.fits')\n",
    "hdu_list_modified = fits.open('fits_demo_output.fits')\n",
    "\n",
    "image_original = hdu_list_original[0].data\n",
    "image_modified = hdu_list_modified[0].data\n",
    "\n",
    "print (f\"The difference between pixels is {np.float32(image_original[0][0]) - np.float32(image_modified[0][0])}.\")"
   ]
  },
  {
   "cell_type": "code",
   "execution_count": 6,
   "metadata": {},
   "outputs": [
    {
     "data": {
      "text/plain": [
       "dtype('float32')"
      ]
     },
     "execution_count": 6,
     "metadata": {},
     "output_type": "execute_result"
    }
   ],
   "source": [
    "image_original[0][0].dtype"
   ]
  },
  {
   "cell_type": "code",
   "execution_count": 9,
   "metadata": {},
   "outputs": [],
   "source": [
    "import OpenEXR\n",
    "\n",
    "\n",
    "exr_file = OpenEXR.InputFile('exr_demo_output.exr')"
   ]
  },
  {
   "cell_type": "code",
   "execution_count": 10,
   "metadata": {},
   "outputs": [
    {
     "name": "stdout",
     "output_type": "stream",
     "text": [
      "{'channels': {'0': HALF (1, 1)}, 'compression': ZIP_COMPRESSION, 'dataWindow': (0, 0) - (2047, 1488), 'displayWindow': (0, 0) - (2047, 1488), 'fits_headers': b'[\"SIMPLE  =                    T /                                                BITPIX  =                  -32 / 32 bit floating point                          NAXIS   =                    2                                                  NAXIS1  =                 2048                                                  NAXIS2  =                 1489                                                  EXTEND  =                    T /Extensions may be present                       BZERO   =              0.00000 /Set by MRD_SCALE                                BSCALE  =              1.00000 /Set by MRD_SCALE                                TAI     =        4683768020.68 / 1st row Number of seconds since Nov 17 1858    RA      =            179.05560 / 1st row RA of telescope boresight (deg)        DEC     =            0.000000  / 1st row Dec of telescope boresight (degrees)   SPA     =              90.000  / 1st row Cam col position angle wrt N (deg)     IPA     =              58.903  / 1st row Inst rotator position angle (deg)      IPARATE =              0.0000  / 1st row Inst rotator anglr velocity (deg/sec)  AZ      =            322.06596 / 1st row Azimuth (encoder) of tele (0=N?) (deg) ALT     =            50.600441 / 1st row Altitude (encoder) of tele (degrees)   FOCUS   =           -214.60000 / 1st row - Focus piston (microns?)              DATE-OBS= \\'2007-04-20\\'         / 1st row - TAI date                             TAIHMS  = \\'06:40:20.68\\'        / 1st row TAI time HH:MM:SS.SS                   COMMENT  TAI,RA,DEC,SPA,IPA,IPARATE,AZ,ALT,FOCUS at reading of col 0, row 0     ORIGIN  = \\'SDSS    \\'                                                            TELESCOP= \\'2.5m    \\'                                                            TIMESYS = \\'TAI     \\'                                                            RUN     =                 6793 / Run number                                     FRAME   =                  127 / Frame sequence number within the run           CCDLOC  =                   13 / Survey location of CCD (e.g., rowCol)          STRIPE  =                   10 / Stripe index number (23 <--> eta=0)            STRIP   = \\'S       \\'           / Strip in the stripe being tracked.             FLAVOR  = \\'science \\'           / Flavor of this run                             OBSERVER= \\'hjbrew  \\'           / Observer                                       SYS_SCN = \\'mean    \\'           / System of the scan great circle (e.g., mean)   EQNX_SCN=           2000.00    / Equinox of the scan great circle. (years)      NODE    =           95.00000   / RA of the great circle\\'s ascending node (deg)  INCL    =           0.00000    / Great circle\\'s inclination wrt cel. eq. (deg)  XBORE   =           22.74      / Boresight x offset from the array center (mm)  YBORE   =           0.00       / Boresight x offset from the array center (mm)  OBJECT  = \\'10 S    \\'           / e.g., \\'stripe 50.6 degrees, north strip\\'       EXPTIME = \\'53.907456\\'          / Exposure time (seconds)                        SYSTEM  = \\'FK5     \\'           / System of the TCC coordinates (e.g., mean)     CCDMODE = \\'DRIFT   \\'           / \\'STARING\\' or \\'DRIFT\\'                           C_OBS   =                26322 / CCD row clock rate (usec/row)                  COLBIN  =                    1 / Binning factor perpendicular to the columns    ROWBIN  =                    1 / Binning factor perpendicular to the rows       DAVERS  = \\'v15_13_1\\'           / Version of DA software                         SCDMETHD= \\'sqrtDynamic\\'        / scdMethod                                      SCDWIDTH=                 1280 / scdDisplayWidth                                SCDDECMF=                    1 / scdDecimateFactor                              SCDOFSET=                   40 / scdDisplayOffset                               SCDDYNTH=                  -18 / scdDynamicThresh                               SCDSTTHL=                   30 / scdStaticThreshL                               SCDSTTHR=                   30 / scdStaticThreshR                               SCDREDSZ=                  471 / scdReduceSize                                  SCDSKYL =                    0 / scdSkyLeft                                     SCDSKYR =                    0 / scdSkyRight                                    COMMENT  CCD-specific parameters                                                CAMROW  =                    1 / Row in the imaging camera                      BADLINES=                    0 / Number of bad lines in frame                   EQUINOX =              2000.00 /                                                SOFTBIAS=                 1000 / software \\\\\"bias\\\\\" added to all DN                BUNIT   = \\'nanomaggy\\'          / 1 nanomaggy = 3.631e-6 Jy                      FILTER  = \\'r       \\'           / filter used                                    CAMCOL  =                    3 / column in the imaging camera                   VERSION = \\'v5_6_3  \\'                                                            DERV_VER= \\'NOCVS:v8_23\\'                                                         ASTR_VER= \\'NOCVS:v5_24\\'                                                         ASTRO_ID= \\'2009-06-17T19:29:26 02505\\'                                           BIAS_ID = \\'PS      \\'                                                            FRAME_ID= \\'2010-08-20T10:43:01 18989\\'                                           KO_VER  = \\'devel   \\'                                                            PS_ID   = \\'2009-06-17T17:49:01 25234 camCol 3\\'                                  ATVSN   = \\'NOCVS:v5_24\\'        / ASTROTOOLS version tag                         RADECSYS= \\'ICRS    \\'           / International Celestial Ref. System            CTYPE1  = \\'RA---TAN\\'           /Coordinate type                                 CTYPE2  = \\'DEC--TAN\\'           /Coordinate type                                 CUNIT1  = \\'deg     \\'           /Units                                           CUNIT2  = \\'deg     \\'           /Units                                           CRPIX1  =        1025.00000000 /X of reference pixel                            CRPIX2  =        745.000000000 /Y of reference pixel                            CRVAL1  =        179.623613540 /RA of reference pixel (deg)                     CRVAL2  =      -0.314655659440 /Dec of reference pixel (deg)                    CD1_1   =    1.29071494688E-08 /RA deg per column pixel                         CD1_2   =    0.000109992926131 /RA deg per row pixel                            CD2_1   =    0.000110008198342 /Dec deg per column pixel                        CD2_2   =   -4.74514810017E-09 /Dec deg per row pixel                           HISTORY GSSSPUTAST: Aug 20 10:43:15 2010                                        COMMENT  Calibration parameters                                                 COMMENT  Floats truncated at 10 binary digits with FLOATCOMPRESS                NMGY    =           0.00530356 / Calibration factor [nMgy per count]            NMGYIVAR=             0.151775 / Calibration factor inverse variance            VERSIDL = \\'7.0     \\'           / Version of IDL                                 VERSUTIL= \\'v5_5_5  \\'           / Version of idlutils                            VERSPOP = \\'v1_11_1 \\'           / Version of photoop product                     PCALIB  = \\'/clusterfs/riemann/raid006/dr8/groups/boss/calib/dr8_final\\' / Value oPSKY    = \\'/clusterfs/riemann/raid006/dr8/groups/boss/photo/sky\\' / Value of PHOTRERUN   = \\'301     \\'           / rerun                                          HISTORY SDSS_FRAME_ASTROM: Astrometry fixed for dr9 Tue Jun 26 05:40:21 2012    END                                                                                                                                                                                                                                                                                                                                                                                                                                                                                                                                                                                                                                                                                                                                                                                                                                                                                                                                                                                             \"]', 'lineOrder': INCREASING_Y, 'pixelAspectRatio': 1.0, 'screenWindowCenter': (0.0, 0.0), 'screenWindowWidth': 1.0}\n"
     ]
    }
   ],
   "source": [
    "exr_header = exr_file.header()\n",
    "print (exr_header)"
   ]
  },
  {
   "cell_type": "code",
   "execution_count": null,
   "metadata": {},
   "outputs": [],
   "source": []
  }
 ],
 "metadata": {
  "kernelspec": {
   "display_name": "Python 3",
   "language": "python",
   "name": "python3"
  },
  "language_info": {
   "codemirror_mode": {
    "name": "ipython",
    "version": 3
   },
   "file_extension": ".py",
   "mimetype": "text/x-python",
   "name": "python",
   "nbconvert_exporter": "python",
   "pygments_lexer": "ipython3",
   "version": "3.6.6"
  }
 },
 "nbformat": 4,
 "nbformat_minor": 2
}
